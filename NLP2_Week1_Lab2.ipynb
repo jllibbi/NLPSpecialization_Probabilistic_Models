{
  "nbformat": 4,
  "nbformat_minor": 0,
  "metadata": {
    "colab": {
      "name": "NLP2_Week1_Lab2.ipynb",
      "provenance": [],
      "collapsed_sections": [],
      "authorship_tag": "ABX9TyPHNjqlvXbh8NIOwgfQJyXw",
      "include_colab_link": true
    },
    "kernelspec": {
      "name": "python3",
      "display_name": "Python 3"
    },
    "language_info": {
      "name": "python"
    }
  },
  "cells": [
    {
      "cell_type": "markdown",
      "metadata": {
        "id": "view-in-github",
        "colab_type": "text"
      },
      "source": [
        "<a href=\"https://colab.research.google.com/github/jllibbi/NLPSpecialization_Probabilistic_Models/blob/main/NLP2_Week1_Lab2.ipynb\" target=\"_parent\"><img src=\"https://colab.research.google.com/assets/colab-badge.svg\" alt=\"Open In Colab\"/></a>"
      ]
    },
    {
      "cell_type": "markdown",
      "source": [
        "#**NLP Course 2 Week 1 Lesson : Building The Model - Lecture Exercise 02**\n",
        "Estimated Time: 20 minutes\n",
        "\n",
        "##**Candidates from String Edits**\n",
        "Create a list of candidate strings by applying an edit operation\n",
        "\n",
        "**Imports and Data**"
      ],
      "metadata": {
        "id": "dChWWvF7887X"
      }
    },
    {
      "cell_type": "code",
      "execution_count": 1,
      "metadata": {
        "id": "TJnLUzek6AU9"
      },
      "outputs": [],
      "source": [
        "# data\n",
        "word = 'dearz' # 🦌"
      ]
    },
    {
      "cell_type": "markdown",
      "source": [
        "**Splits**\n",
        "Find all the ways you can split a word into 2 parts !"
      ],
      "metadata": {
        "id": "ySkUvscj9Fyn"
      }
    },
    {
      "cell_type": "code",
      "source": [
        "# splits with a loop\n",
        "splits_a = []\n",
        "for i in range(len(word)+1):\n",
        "    splits_a.append([word[:i],word[i:]])\n",
        "\n",
        "for i in splits_a:\n",
        "    print(i)"
      ],
      "metadata": {
        "id": "JqSU4nOA9JKz",
        "colab": {
          "base_uri": "https://localhost:8080/"
        },
        "outputId": "4294e5b6-3437-4b67-cc89-f5cad3b0245d"
      },
      "execution_count": 2,
      "outputs": [
        {
          "output_type": "stream",
          "name": "stdout",
          "text": [
            "['', 'dearz']\n",
            "['d', 'earz']\n",
            "['de', 'arz']\n",
            "['dea', 'rz']\n",
            "['dear', 'z']\n",
            "['dearz', '']\n"
          ]
        }
      ]
    },
    {
      "cell_type": "code",
      "source": [
        "# same splits, done using a list comprehension\n",
        "splits_b = [(word[:i], word[i:]) for i in range(len(word) + 1)]\n",
        "\n",
        "for i in splits_b:\n",
        "    print(i)"
      ],
      "metadata": {
        "id": "Xco1CfLx9Lr7",
        "colab": {
          "base_uri": "https://localhost:8080/"
        },
        "outputId": "abe0af86-78ff-434e-d5ff-ac7a5c9fad8f"
      },
      "execution_count": 3,
      "outputs": [
        {
          "output_type": "stream",
          "name": "stdout",
          "text": [
            "('', 'dearz')\n",
            "('d', 'earz')\n",
            "('de', 'arz')\n",
            "('dea', 'rz')\n",
            "('dear', 'z')\n",
            "('dearz', '')\n"
          ]
        }
      ]
    },
    {
      "cell_type": "markdown",
      "source": [
        "**Delete Edit**\n",
        "\n",
        "Delete a letter from each string in the `splits` list.\n",
        "\n",
        "What this does is effectivly delete each possible letter from the original word being edited."
      ],
      "metadata": {
        "id": "-hnI8Kka9ODz"
      }
    },
    {
      "cell_type": "code",
      "source": [
        "# deletes with a loop\n",
        "splits = splits_a\n",
        "deletes = []\n",
        "\n",
        "print('word : ', word)\n",
        "for L,R in splits:\n",
        "    if R:\n",
        "        print(L + R[1:], ' <-- delete ', R[0])"
      ],
      "metadata": {
        "id": "riRTVRqm9UpX",
        "colab": {
          "base_uri": "https://localhost:8080/"
        },
        "outputId": "e14bdaa3-78da-4996-deb5-c44c56f21a6e"
      },
      "execution_count": 4,
      "outputs": [
        {
          "output_type": "stream",
          "name": "stdout",
          "text": [
            "word :  dearz\n",
            "earz  <-- delete  d\n",
            "darz  <-- delete  e\n",
            "derz  <-- delete  a\n",
            "deaz  <-- delete  r\n",
            "dear  <-- delete  z\n"
          ]
        }
      ]
    },
    {
      "cell_type": "markdown",
      "source": [
        "It's worth taking a closer look at how this is excecuting a 'delete'.\n",
        "\n",
        "Taking the first item from the `splits` list :"
      ],
      "metadata": {
        "id": "ngUb7k6o9Z3_"
      }
    },
    {
      "cell_type": "code",
      "source": [
        "# breaking it down\n",
        "print('word : ', word)\n",
        "one_split = splits[0]\n",
        "print('first item from the splits list : ', one_split)\n",
        "L = one_split[0]\n",
        "R = one_split[1]\n",
        "print('L : ', L)\n",
        "print('R : ', R)\n",
        "print('*** now implicit delete by excluding the leading letter ***')\n",
        "print('L + R[1:] : ',L + R[1:], ' <-- delete ', R[0])"
      ],
      "metadata": {
        "id": "Zg2lwug-9m0h",
        "colab": {
          "base_uri": "https://localhost:8080/"
        },
        "outputId": "16ff7735-5256-4be0-f495-45f86e5f7142"
      },
      "execution_count": 5,
      "outputs": [
        {
          "output_type": "stream",
          "name": "stdout",
          "text": [
            "word :  dearz\n",
            "first item from the splits list :  ['', 'dearz']\n",
            "L :  \n",
            "R :  dearz\n",
            "*** now implicit delete by excluding the leading letter ***\n",
            "L + R[1:] :  earz  <-- delete  d\n"
          ]
        }
      ]
    },
    {
      "cell_type": "markdown",
      "source": [
        "So the end result transforms **'dearz'** to **'earz'** by deleting the first character.\n",
        "\n",
        "And you use a **loop** (code block above) or a **list comprehension** (code block below) to do\n",
        "this for the entire `splits` list."
      ],
      "metadata": {
        "id": "h9rd_TYn9znn"
      }
    },
    {
      "cell_type": "code",
      "source": [
        "# deletes with a list comprehension\n",
        "splits = splits_a\n",
        "deletes = [L + R[1:] for L, R in splits if R]\n",
        "\n",
        "print(deletes)\n",
        "print('*** which is the same as ***')\n",
        "for i in deletes:\n",
        "    print(i)"
      ],
      "metadata": {
        "id": "QxMff4fC-WcZ",
        "colab": {
          "base_uri": "https://localhost:8080/"
        },
        "outputId": "ccf6bce2-846d-4207-deab-7b7b7ecc9cf3"
      },
      "execution_count": 6,
      "outputs": [
        {
          "output_type": "stream",
          "name": "stdout",
          "text": [
            "['earz', 'darz', 'derz', 'deaz', 'dear']\n",
            "*** which is the same as ***\n",
            "earz\n",
            "darz\n",
            "derz\n",
            "deaz\n",
            "dear\n"
          ]
        }
      ]
    },
    {
      "cell_type": "markdown",
      "source": [
        "**Ungraded Exercise**\n",
        "\n",
        "You now have a list of ***candidate strings*** created after performing a **delete** edit.\n",
        "\n",
        "Next step will be to filter this list for ***candidate words*** found in a vocabulary.\n",
        "\n",
        "Given the example vocab below, can you think of a way to create a list of candidate words ?\n",
        "\n",
        "Remember, you already have a list of candidate strings, some of which are certainly not actual words you might find in your vocabulary !\n",
        "\n",
        "So from the above list **earz, darz, derz, deaz, dear**.\n",
        "You're really only interested in **dear**."
      ],
      "metadata": {
        "id": "dcUoNIKp-kMQ"
      }
    },
    {
      "cell_type": "code",
      "source": [
        "vocab = ['dean','deer','dear','fries','and','coke']\n",
        "edits = list(deletes)\n",
        "\n",
        "print('vocab : ', vocab)\n",
        "print('edits : ', edits)\n",
        "\n",
        "candidates=[]\n",
        "\n",
        "### START CODE HERE ###\n",
        "candidates = set(edits).intersection(set(vocab))  # hint: 'set.intersection'\n",
        "### END CODE HERE ###\n",
        "\n",
        "print('candidate words : ', candidates)"
      ],
      "metadata": {
        "id": "xQO9b59w-3E_",
        "colab": {
          "base_uri": "https://localhost:8080/"
        },
        "outputId": "710ded6b-13e7-4eda-b1fd-b3d313538f07"
      },
      "execution_count": 7,
      "outputs": [
        {
          "output_type": "stream",
          "name": "stdout",
          "text": [
            "vocab :  ['dean', 'deer', 'dear', 'fries', 'and', 'coke']\n",
            "edits :  ['earz', 'darz', 'derz', 'deaz', 'dear']\n",
            "candidate words :  {'dear'}\n"
          ]
        }
      ]
    },
    {
      "cell_type": "markdown",
      "source": [
        "Expected Outcome:\n",
        "\n",
        "vocab : ['dean', 'deer', 'dear', 'fries', 'and', 'coke']\n",
        "\n",
        "edits : ['earz', 'darz', 'derz', 'deaz', 'dear']\n",
        "\n",
        "candidate words : {'dear'}\n",
        "\n",
        "###**Summary**\n",
        "You've unpacked an integral part of the assignment by breaking down **splits** and **edits**, specifically looking at **deletes** here.\n",
        "Implementation of the other edit types (insert, replace, switch) follows a similar methodology and should now feel somewhat familiar when you see them.\n",
        "This bit of the code isn't as intuitive as other sections, so well done!\n",
        "You should now feel confident facing some of the more technical parts of the assignment at the end of the week."
      ],
      "metadata": {
        "id": "L5OFvlVs-3lj"
      }
    }
  ]
}