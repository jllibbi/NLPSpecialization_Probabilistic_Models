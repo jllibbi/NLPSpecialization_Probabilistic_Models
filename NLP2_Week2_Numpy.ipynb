{
  "nbformat": 4,
  "nbformat_minor": 0,
  "metadata": {
    "colab": {
      "name": "NLP2_Week2_Numpy.ipynb",
      "provenance": [],
      "collapsed_sections": [],
      "authorship_tag": "ABX9TyMXmpCzNvgHoMYFDAP5E6Sg",
      "include_colab_link": true
    },
    "kernelspec": {
      "name": "python3",
      "display_name": "Python 3"
    },
    "language_info": {
      "name": "python"
    }
  },
  "cells": [
    {
      "cell_type": "markdown",
      "metadata": {
        "id": "view-in-github",
        "colab_type": "text"
      },
      "source": [
        "<a href=\"https://colab.research.google.com/github/jllibbi/NLPSpecialization_Probabilistic_Models/blob/main/NLP2_Week2_Numpy.ipynb\" target=\"_parent\"><img src=\"https://colab.research.google.com/assets/colab-badge.svg\" alt=\"Open In Colab\"/></a>"
      ]
    },
    {
      "cell_type": "markdown",
      "source": [
        "#**Parts-of-Speech Tagging - Working with tags and Numpy**\n",
        "In this lecture notebook you will create a matrix using some tag information and then modify it using different approaches. This will serve as hands-on experience working with Numpy and as an introduction to some elements used for POS tagging."
      ],
      "metadata": {
        "id": "VOVGInkr_fra"
      }
    },
    {
      "cell_type": "code",
      "execution_count": 1,
      "metadata": {
        "id": "myU8S34e_Yri"
      },
      "outputs": [],
      "source": [
        "import numpy as np\n",
        "import pandas as pd"
      ]
    },
    {
      "cell_type": "markdown",
      "source": [
        "**Some information on tags**\n",
        "\n",
        "For this notebook you will be using a toy example including only three tags (or states). In a real world application there are many more tags which can be found [here](https://www.ling.upenn.edu/courses/Fall_2003/ling001/penn_treebank_pos.html)."
      ],
      "metadata": {
        "id": "DBFWzCWxhD7A"
      }
    },
    {
      "cell_type": "code",
      "source": [
        "# Define tags for Adverb, Noun and To (the preposition) , respectively\n",
        "tags = ['RB', 'NN', 'TO']"
      ],
      "metadata": {
        "id": "PYzn9EI9hLGq"
      },
      "execution_count": 2,
      "outputs": []
    },
    {
      "cell_type": "markdown",
      "source": [
        "In this week's assignment you will construct some dictionaries that provide useful information of the tags and words you will be working with.\n",
        "\n",
        "One of these dictionaries is the `transition_counts` which counts the number of times a particular tag happened next to another. The keys of this dictionary have the form `(previous_tag, tag)` and the values are the frequency of occurrences.\n",
        "\n",
        "Another one is the `emission_counts` dictionary which will count the number of times a particular pair of `(tag, word)` appeared in the training dataset.\n",
        "\n",
        "In general think of `transition` when working with tags only and of `emission` when working with tags and words.\n",
        "\n",
        "In this notebook you will be looking at the first one:"
      ],
      "metadata": {
        "id": "vBF00H-PhMGi"
      }
    },
    {
      "cell_type": "code",
      "source": [
        "# Define 'transition_counts' dictionary\n",
        "# Note: values are the same as the ones in the assignment\n",
        "transition_counts = {\n",
        "    ('NN', 'NN'): 16241,\n",
        "    ('RB', 'RB'): 2263,\n",
        "    ('TO', 'TO'): 2,\n",
        "    ('NN', 'TO'): 5256,\n",
        "    ('RB', 'TO'): 855,\n",
        "    ('TO', 'NN'): 734,\n",
        "    ('NN', 'RB'): 2431,\n",
        "    ('RB', 'NN'): 358,\n",
        "    ('TO', 'RB'): 200\n",
        "}"
      ],
      "metadata": {
        "id": "R1yfi9ybhX03"
      },
      "execution_count": 3,
      "outputs": []
    },
    {
      "cell_type": "markdown",
      "source": [
        "Notice that there are 9 combinations of the 3 tags used. Each tag can appear after the same tag so you should include those as well.\n",
        "\n",
        "**Using Numpy for matrix creation**\n",
        "\n",
        "Now you will create a matrix that includes these frequencies using Numpy arrays:"
      ],
      "metadata": {
        "id": "Uq33cCVEhbL8"
      }
    },
    {
      "cell_type": "code",
      "source": [
        "# Store the number of tags in the 'num_tags' variable\n",
        "num_tags = len(tags)\n",
        "\n",
        "# Initialize a 3X3 numpy array with zeros\n",
        "transition_matrix = np.zeros((num_tags, num_tags))\n",
        "\n",
        "# Print matrix\n",
        "transition_matrix"
      ],
      "metadata": {
        "id": "T-qI_j4qhdv8",
        "colab": {
          "base_uri": "https://localhost:8080/"
        },
        "outputId": "fda758c4-e49c-428d-fe95-72d80e1b177f"
      },
      "execution_count": 4,
      "outputs": [
        {
          "output_type": "execute_result",
          "data": {
            "text/plain": [
              "array([[0., 0., 0.],\n",
              "       [0., 0., 0.],\n",
              "       [0., 0., 0.]])"
            ]
          },
          "metadata": {},
          "execution_count": 4
        }
      ]
    },
    {
      "cell_type": "markdown",
      "source": [
        "Visually you can see the matrix has the correct dimensions. Don't forget you can check this too using the `shape` attribute:"
      ],
      "metadata": {
        "id": "pnFqwhDXhf2S"
      }
    },
    {
      "cell_type": "code",
      "source": [
        "# Print shape of the matrix\n",
        "transition_matrix.shape"
      ],
      "metadata": {
        "id": "6Eao3St_hiuj",
        "colab": {
          "base_uri": "https://localhost:8080/"
        },
        "outputId": "4031060e-d4e4-4c66-c7c9-568b8b92d031"
      },
      "execution_count": 5,
      "outputs": [
        {
          "output_type": "execute_result",
          "data": {
            "text/plain": [
              "(3, 3)"
            ]
          },
          "metadata": {},
          "execution_count": 5
        }
      ]
    },
    {
      "cell_type": "markdown",
      "source": [
        "Before filling this matrix with the values of the `transition_counts` dictionary you should sort the tags so that their placement in the matrix is consistent:"
      ],
      "metadata": {
        "id": "tjSf8jJ5hka7"
      }
    },
    {
      "cell_type": "code",
      "source": [
        "# Create sorted version of the tag's list\n",
        "sorted_tags = sorted(tags)\n",
        "\n",
        "# Print sorted list\n",
        "sorted_tags"
      ],
      "metadata": {
        "id": "RtRNt6BNhmXQ",
        "colab": {
          "base_uri": "https://localhost:8080/"
        },
        "outputId": "0fcc0abf-68d5-413f-aa5f-c14e3a9a8657"
      },
      "execution_count": 6,
      "outputs": [
        {
          "output_type": "execute_result",
          "data": {
            "text/plain": [
              "['NN', 'RB', 'TO']"
            ]
          },
          "metadata": {},
          "execution_count": 6
        }
      ]
    },
    {
      "cell_type": "markdown",
      "source": [
        "To fill this matrix with the correct values you can use a `double for loop`. You could also use `itertools.product` to one line this double loop:"
      ],
      "metadata": {
        "id": "eqVy4Mq5ho2L"
      }
    },
    {
      "cell_type": "code",
      "source": [
        "# Loop rows\n",
        "for i in range(num_tags):\n",
        "    # Loop columns\n",
        "    for j in range(num_tags):\n",
        "        # Define tag pair\n",
        "        tag_tuple = (sorted_tags[i], sorted_tags[j])\n",
        "        # Get frequency from transition_counts dict and assign to (i, j) position in the matrix\n",
        "        transition_matrix[i, j] = transition_counts.get(tag_tuple)\n",
        "\n",
        "# Print matrix\n",
        "transition_matrix"
      ],
      "metadata": {
        "id": "vTNpk-wEhslH",
        "colab": {
          "base_uri": "https://localhost:8080/"
        },
        "outputId": "b1e3b08e-dc62-4491-9909-8e98c39e2b2f"
      },
      "execution_count": 7,
      "outputs": [
        {
          "output_type": "execute_result",
          "data": {
            "text/plain": [
              "array([[1.6241e+04, 2.4310e+03, 5.2560e+03],\n",
              "       [3.5800e+02, 2.2630e+03, 8.5500e+02],\n",
              "       [7.3400e+02, 2.0000e+02, 2.0000e+00]])"
            ]
          },
          "metadata": {},
          "execution_count": 7
        }
      ]
    },
    {
      "cell_type": "markdown",
      "source": [
        "Looks like this worked fine. However the matrix can be hard to read as `Numpy` is more about efficiency, rather than presenting values in a pretty format.\n",
        "\n",
        "For this you can use a `Pandas DataFrame`. In particular, a function that takes the matrix as input and prints out a pretty version of it will be very useful:"
      ],
      "metadata": {
        "id": "baYT-qODhvSe"
      }
    },
    {
      "cell_type": "code",
      "source": [
        "# Define 'print_matrix' function\n",
        "def print_matrix(matrix):\n",
        "    print(pd.DataFrame(matrix, index=sorted_tags, columns=sorted_tags))"
      ],
      "metadata": {
        "id": "5TWPBEtUhzc4"
      },
      "execution_count": 8,
      "outputs": []
    },
    {
      "cell_type": "markdown",
      "source": [
        "Notice that the tags are not a parameter of the function. This is because the `sorted_tags` list will not change in the rest of the notebook so it is safe to use the variable previously declared. To test this function simply run:"
      ],
      "metadata": {
        "id": "LInOZWath1ay"
      }
    },
    {
      "cell_type": "code",
      "source": [
        "# Print the 'transition_matrix' by calling the 'print_matrix' function\n",
        "print_matrix(transition_matrix)"
      ],
      "metadata": {
        "id": "5QAQBZ1bh4D_",
        "colab": {
          "base_uri": "https://localhost:8080/"
        },
        "outputId": "2ca03c01-5189-4a68-8e49-a12054f20ecb"
      },
      "execution_count": 9,
      "outputs": [
        {
          "output_type": "stream",
          "name": "stdout",
          "text": [
            "         NN      RB      TO\n",
            "NN  16241.0  2431.0  5256.0\n",
            "RB    358.0  2263.0   855.0\n",
            "TO    734.0   200.0     2.0\n"
          ]
        }
      ]
    },
    {
      "cell_type": "markdown",
      "source": [
        "That is a lot better, isn't it?\n",
        "\n",
        "As you may have already deducted this matrix is not symmetrical.\n",
        "\n",
        "**Working with Numpy for matrix manipulation**\n",
        "\n",
        "Now that you got the matrix set up it is time to see how a matrix can be manipulated after being created.\n",
        "\n",
        "`Numpy` allows vectorized operations which means that operations that would normally include looping over the matrix can be done in a simpler manner. This is consistent with treating numpy arrays as matrices since you get support for common matrix operations. You can do matrix multiplication, scalar multiplication, vector addition and many more!\n",
        "\n",
        "For instance try scaling each value in the matrix by a factor of $\\frac{1}{10}$. Normally you would loop over each value in the matrix, updating them accordingly. But in Numpy this is as easy as dividing the whole matrix by 10:"
      ],
      "metadata": {
        "id": "JpjmVO8Gh5nk"
      }
    },
    {
      "cell_type": "code",
      "source": [
        "# Scale transition matrix\n",
        "transition_matrix = transition_matrix/10\n",
        "\n",
        "# Print scaled matrix\n",
        "print_matrix(transition_matrix)"
      ],
      "metadata": {
        "id": "Gq-RH4Z9iWsZ",
        "colab": {
          "base_uri": "https://localhost:8080/"
        },
        "outputId": "d04f5512-e3f7-45eb-b4e3-23c51c11c2a2"
      },
      "execution_count": 10,
      "outputs": [
        {
          "output_type": "stream",
          "name": "stdout",
          "text": [
            "        NN     RB     TO\n",
            "NN  1624.1  243.1  525.6\n",
            "RB    35.8  226.3   85.5\n",
            "TO    73.4   20.0    0.2\n"
          ]
        }
      ]
    },
    {
      "cell_type": "markdown",
      "source": [
        "Another trickier example is to normalize each row so that each value is equal to $\\frac{value}{sum of row}$.\n",
        "\n",
        "This can be easily done with vectorization. First you will compute the sum of each row:"
      ],
      "metadata": {
        "id": "9ORiYp-LiYEY"
      }
    },
    {
      "cell_type": "code",
      "source": [
        "# Compute sum of row for each row\n",
        "rows_sum = transition_matrix.sum(axis=1, keepdims=True)\n",
        "\n",
        "# Print sum of rows\n",
        "rows_sum"
      ],
      "metadata": {
        "id": "nzyYRtX_ir1p",
        "colab": {
          "base_uri": "https://localhost:8080/"
        },
        "outputId": "2be1891b-31ae-4e70-8891-a97eb3f0c1ad"
      },
      "execution_count": 11,
      "outputs": [
        {
          "output_type": "execute_result",
          "data": {
            "text/plain": [
              "array([[2392.8],\n",
              "       [ 347.6],\n",
              "       [  93.6]])"
            ]
          },
          "metadata": {},
          "execution_count": 11
        }
      ]
    },
    {
      "cell_type": "markdown",
      "source": [
        "Notice that the `sum()` method was used. This method does exactly what its name implies. Since the sum of the rows was desired the axis was set to `1`. In Numpy `axis=1` refers to the columns so the sum is done by summing each column of a particular row, for each row.\n",
        "\n",
        "Also the `keepdims` parameter was set to `True` so the resulting array had shape `(3, 1)` rather than `(3,)`. This was done so that the axes were consistent with the desired operation.\n",
        "\n",
        "When working with Numpy, always remember to check the shape of the arrays you are working with, many unexpected errors happen because of axes not being consistent. The `shape` attribute is your friend for these cases."
      ],
      "metadata": {
        "id": "g2lqEdXWiu0a"
      }
    },
    {
      "cell_type": "code",
      "source": [
        "# Normalize transition matrix\n",
        "transition_matrix = transition_matrix / rows_sum\n",
        "\n",
        "# Print normalized matrix\n",
        "print_matrix(transition_matrix)"
      ],
      "metadata": {
        "id": "qXB6zzMji5f2",
        "colab": {
          "base_uri": "https://localhost:8080/"
        },
        "outputId": "61f3c474-1616-4010-b699-8eb3cb2f7efd"
      },
      "execution_count": 12,
      "outputs": [
        {
          "output_type": "stream",
          "name": "stdout",
          "text": [
            "          NN        RB        TO\n",
            "NN  0.678745  0.101596  0.219659\n",
            "RB  0.102992  0.651036  0.245972\n",
            "TO  0.784188  0.213675  0.002137\n"
          ]
        }
      ]
    },
    {
      "cell_type": "markdown",
      "source": [
        "Notice that the normalization that was carried out forces the sum of each row to be equal to `1`. You can easily check this by running the `sum` method on the resulting matrix:"
      ],
      "metadata": {
        "id": "2nt0BnKgi6CA"
      }
    },
    {
      "cell_type": "code",
      "source": [
        "transition_matrix.sum(axis=1, keepdims=True)"
      ],
      "metadata": {
        "id": "hLilvFhui_i_",
        "colab": {
          "base_uri": "https://localhost:8080/"
        },
        "outputId": "cb85a742-dc30-4db9-c398-4080e76c36d5"
      },
      "execution_count": 13,
      "outputs": [
        {
          "output_type": "execute_result",
          "data": {
            "text/plain": [
              "array([[1.],\n",
              "       [1.],\n",
              "       [1.]])"
            ]
          },
          "metadata": {},
          "execution_count": 13
        }
      ]
    },
    {
      "cell_type": "markdown",
      "source": [
        "For a final example you are asked to modify each value of the diagonal of the matrix so that they are equal to the `log` of the sum of the current row plus the current value. When doing mathematical operations like this one don't forget to import the `math` module.\n",
        "\n",
        "This can be done using a standard `for loop` or `vectorization`. You'll see both in action:"
      ],
      "metadata": {
        "id": "HNhOkxMKjBMM"
      }
    },
    {
      "cell_type": "code",
      "source": [
        "import math\n",
        "\n",
        "# Copy transition matrix for for-loop example\n",
        "t_matrix_for = np.copy(transition_matrix)\n",
        "\n",
        "# Copy transition matrix for numpy functions example\n",
        "t_matrix_np = np.copy(transition_matrix)"
      ],
      "metadata": {
        "id": "6C5-pctEjG2c"
      },
      "execution_count": 14,
      "outputs": []
    },
    {
      "cell_type": "markdown",
      "source": [
        "**Using a for-loop**"
      ],
      "metadata": {
        "id": "BYfcb8k-jKdD"
      }
    },
    {
      "cell_type": "code",
      "source": [
        "# Loop values in the diagonal\n",
        "for i in range(num_tags):\n",
        "    t_matrix_for[i, i] =  t_matrix_for[i, i] + math.log(rows_sum[i])\n",
        "\n",
        "# Print matrix\n",
        "print_matrix(t_matrix_for)"
      ],
      "metadata": {
        "id": "W3JxAFJCjJmW",
        "colab": {
          "base_uri": "https://localhost:8080/"
        },
        "outputId": "66eef66d-1d07-4f02-8be5-6668bbc9bbc7"
      },
      "execution_count": 15,
      "outputs": [
        {
          "output_type": "stream",
          "name": "stdout",
          "text": [
            "          NN        RB        TO\n",
            "NN  8.458964  0.101596  0.219659\n",
            "RB  0.102992  6.502088  0.245972\n",
            "TO  0.784188  0.213675  4.541167\n"
          ]
        }
      ]
    },
    {
      "cell_type": "markdown",
      "source": [
        "**Using vectorization**"
      ],
      "metadata": {
        "id": "0eXDCjRbjNuk"
      }
    },
    {
      "cell_type": "code",
      "source": [
        "# Save diagonal in a numpy array\n",
        "d = np.diag(t_matrix_np)\n",
        "\n",
        "# Print shape of diagonal\n",
        "d.shape"
      ],
      "metadata": {
        "id": "9s2Wqhh0jP8x",
        "colab": {
          "base_uri": "https://localhost:8080/"
        },
        "outputId": "6d3a1cf2-9181-417e-d5fd-6f4c5c50ae3f"
      },
      "execution_count": 16,
      "outputs": [
        {
          "output_type": "execute_result",
          "data": {
            "text/plain": [
              "(3,)"
            ]
          },
          "metadata": {},
          "execution_count": 16
        }
      ]
    },
    {
      "cell_type": "markdown",
      "source": [
        "You can save the diagonal in a numpy array using Numpy's `diag()` function. Notice that this array has shape `(3,)` so it is inconsistent with the dimensions of the `rows_sum` array which are `(3, 1)`. You'll have to reshape before moving forward. For this you can use Numpy's `reshape()` function, specifying the desired shape in a tuple:"
      ],
      "metadata": {
        "id": "6-n0WuRojRMA"
      }
    },
    {
      "cell_type": "code",
      "source": [
        "# Reshape diagonal numpy array\n",
        "d = np.reshape(d, (3,1))\n",
        "\n",
        "# Print shape of diagonal\n",
        "d.shape"
      ],
      "metadata": {
        "id": "9XKQjBGNjZEa",
        "colab": {
          "base_uri": "https://localhost:8080/"
        },
        "outputId": "47e97f4d-a2cc-4449-bffc-2aa93fa14af9"
      },
      "execution_count": 17,
      "outputs": [
        {
          "output_type": "execute_result",
          "data": {
            "text/plain": [
              "(3, 1)"
            ]
          },
          "metadata": {},
          "execution_count": 17
        }
      ]
    },
    {
      "cell_type": "markdown",
      "source": [
        "Now that the diagonal has the correct shape you can do the vectorized operation by applying the `math.log()` function to the `rows_sum` array and adding the diagonal.\n",
        "\n",
        "To apply a function to each element of a numpy array use Numpy's `vectorize()` function providing the desired function as a parameter. This function returns a vectorized function that accepts a numpy array as a parameter.\n",
        "\n",
        "To update the original matrix you can use Numpy's `fill_diagonal()` function."
      ],
      "metadata": {
        "id": "vVxNc1LejbGw"
      }
    },
    {
      "cell_type": "code",
      "source": [
        "# Perform the vectorized operation\n",
        "d = d + np.vectorize(math.log)(rows_sum)\n",
        "\n",
        "# Use numpy's 'fill_diagonal' function to update the diagonal\n",
        "np.fill_diagonal(t_matrix_np, d)\n",
        "\n",
        "# Print the matrix\n",
        "print_matrix(t_matrix_np)"
      ],
      "metadata": {
        "id": "VlK0m5LEjiwj",
        "colab": {
          "base_uri": "https://localhost:8080/"
        },
        "outputId": "bd54857a-42cf-4021-d92a-e3b2a5095f82"
      },
      "execution_count": 18,
      "outputs": [
        {
          "output_type": "stream",
          "name": "stdout",
          "text": [
            "          NN        RB        TO\n",
            "NN  8.458964  0.101596  0.219659\n",
            "RB  0.102992  6.502088  0.245972\n",
            "TO  0.784188  0.213675  4.541167\n"
          ]
        }
      ]
    },
    {
      "cell_type": "markdown",
      "source": [
        "To perform a sanity check that both methods yield the same result you can compare both matrices. Notice that this operation is also vectorized so you will get the equality check for each element in both matrices:"
      ],
      "metadata": {
        "id": "XjBaLsevjkB_"
      }
    },
    {
      "cell_type": "code",
      "source": [
        "# Check for equality\n",
        "t_matrix_for == t_matrix_np"
      ],
      "metadata": {
        "id": "lRePR3xnjlf-",
        "colab": {
          "base_uri": "https://localhost:8080/"
        },
        "outputId": "9bda2399-1069-4087-940f-c8b97f314f79"
      },
      "execution_count": 19,
      "outputs": [
        {
          "output_type": "execute_result",
          "data": {
            "text/plain": [
              "array([[ True,  True,  True],\n",
              "       [ True,  True,  True],\n",
              "       [ True,  True,  True]])"
            ]
          },
          "metadata": {},
          "execution_count": 19
        }
      ]
    },
    {
      "cell_type": "markdown",
      "source": [
        "**Congratulations on finishing this lecture notebook!** Now you should be more familiar with some elements used by a POS tagger such as the `transition_counts` dictionary and with working with Numpy.\n",
        "\n",
        "**Keep it up!**"
      ],
      "metadata": {
        "id": "8Zr2KbL-jm57"
      }
    }
  ]
}